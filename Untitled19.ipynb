{
  "nbformat": 4,
  "nbformat_minor": 0,
  "metadata": {
    "colab": {
      "name": "Untitled19.ipynb",
      "provenance": [],
      "collapsed_sections": [],
      "authorship_tag": "ABX9TyNQB8Xbfl1XUcWlua34OAuT",
      "include_colab_link": true
    },
    "kernelspec": {
      "name": "python3",
      "display_name": "Python 3"
    },
    "language_info": {
      "name": "python"
    }
  },
  "cells": [
    {
      "cell_type": "markdown",
      "metadata": {
        "id": "view-in-github",
        "colab_type": "text"
      },
      "source": [
        "<a href=\"https://colab.research.google.com/github/DipankerSuryansh/random-password/blob/main/Untitled19.ipynb\" target=\"_parent\"><img src=\"https://colab.research.google.com/assets/colab-badge.svg\" alt=\"Open In Colab\"/></a>"
      ]
    },
    {
      "cell_type": "code",
      "execution_count": null,
      "metadata": {
        "colab": {
          "base_uri": "https://localhost:8080/"
        },
        "id": "cQGIZwQYgBxJ",
        "outputId": "dc30a72e-1fd0-4833-bdaa-ed9943584da9"
      },
      "outputs": [
        {
          "output_type": "stream",
          "name": "stdout",
          "text": [
            "enter the length of password 19\n",
            "your random password is  ^4T!Rbcjd@w5JK&*EDO\n"
          ]
        }
      ],
      "source": [
        "import random\n",
        "password = \"ABCDEFGHIJKLMNOPQRSTUVWXYZ1234567890abcdefghijklmnopqrstuvwxyz!@#$%^&*\"\n",
        "length_password = int(input(\"enter the length of password\"))\n",
        "a = \"\".join(random.sample(password,length_password))# extract some random number\n",
        "print(f\"your random password is  {a}\")"
      ]
    }
  ]
}